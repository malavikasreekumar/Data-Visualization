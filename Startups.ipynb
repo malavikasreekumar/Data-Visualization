{
 "cells": [
  {
   "cell_type": "code",
   "execution_count": 2,
   "id": "d61b2ae2",
   "metadata": {},
   "outputs": [],
   "source": [
    "import numpy as np\n",
    "import pandas as pd\n",
    "import matplotlib.pyplot as plt"
   ]
  },
  {
   "cell_type": "code",
   "execution_count": 3,
   "id": "e04c25c2",
   "metadata": {},
   "outputs": [],
   "source": [
    "df=pd.read_csv('Startups1.csv')"
   ]
  },
  {
   "cell_type": "code",
   "execution_count": 4,
   "id": "b68a6f68",
   "metadata": {},
   "outputs": [
    {
     "data": {
      "text/html": [
       "<div>\n",
       "<style scoped>\n",
       "    .dataframe tbody tr th:only-of-type {\n",
       "        vertical-align: middle;\n",
       "    }\n",
       "\n",
       "    .dataframe tbody tr th {\n",
       "        vertical-align: top;\n",
       "    }\n",
       "\n",
       "    .dataframe thead th {\n",
       "        text-align: right;\n",
       "    }\n",
       "</style>\n",
       "<table border=\"1\" class=\"dataframe\">\n",
       "  <thead>\n",
       "    <tr style=\"text-align: right;\">\n",
       "      <th></th>\n",
       "      <th>Unnamed: 0</th>\n",
       "      <th>Company</th>\n",
       "      <th>City</th>\n",
       "      <th>Starting Year</th>\n",
       "      <th>Founders</th>\n",
       "      <th>Industries</th>\n",
       "      <th>Description</th>\n",
       "      <th>No. of Employees</th>\n",
       "      <th>Funding Amount in $</th>\n",
       "      <th>Funding Round</th>\n",
       "      <th>No. of Investors</th>\n",
       "    </tr>\n",
       "  </thead>\n",
       "  <tbody>\n",
       "    <tr>\n",
       "      <th>0</th>\n",
       "      <td>0</td>\n",
       "      <td>Urban Company</td>\n",
       "      <td>Gurgaon</td>\n",
       "      <td>2014</td>\n",
       "      <td>Abhiraj Singh Bhal, Raghav Chandra, Varun Khaitan</td>\n",
       "      <td>Apps, Home Services, Marketplace, Service Indu...</td>\n",
       "      <td>Urban is a marketplace for independent contrac...</td>\n",
       "      <td>1001-5000</td>\n",
       "      <td>445920356</td>\n",
       "      <td>12</td>\n",
       "      <td>16</td>\n",
       "    </tr>\n",
       "    <tr>\n",
       "      <th>1</th>\n",
       "      <td>1</td>\n",
       "      <td>Classplus</td>\n",
       "      <td>Noida</td>\n",
       "      <td>2018</td>\n",
       "      <td>Bhaswat Agarwal, Bikash Dash, Mukul Rustagi, N...</td>\n",
       "      <td>B2B, E-Learning, EdTech, Education, Mobile App...</td>\n",
       "      <td>Classplus is a mobile-first SaaS platform that...</td>\n",
       "      <td>101-250</td>\n",
       "      <td>89506451</td>\n",
       "      <td>10</td>\n",
       "      <td>20</td>\n",
       "    </tr>\n",
       "    <tr>\n",
       "      <th>2</th>\n",
       "      <td>2</td>\n",
       "      <td>Paytm</td>\n",
       "      <td>Noida</td>\n",
       "      <td>2010</td>\n",
       "      <td>Akshay Khanna, Vijay Shekhar Sharma</td>\n",
       "      <td>E-Commerce, Finance, Financial Services, Inter...</td>\n",
       "      <td>Paytm is a payment gateway that allows users a...</td>\n",
       "      <td>501-1000</td>\n",
       "      <td>32448851</td>\n",
       "      <td>4</td>\n",
       "      <td>4</td>\n",
       "    </tr>\n",
       "    <tr>\n",
       "      <th>3</th>\n",
       "      <td>3</td>\n",
       "      <td>Apna</td>\n",
       "      <td>Mumbai</td>\n",
       "      <td>2019</td>\n",
       "      <td>Nirmit Parikh</td>\n",
       "      <td>Employment, Human Resources, Recruiting, Staff...</td>\n",
       "      <td>Apna is a professional networking and job-sear...</td>\n",
       "      <td>101-250</td>\n",
       "      <td>93450000</td>\n",
       "      <td>4</td>\n",
       "      <td>6</td>\n",
       "    </tr>\n",
       "    <tr>\n",
       "      <th>4</th>\n",
       "      <td>4</td>\n",
       "      <td>Razorpay</td>\n",
       "      <td>Bengaluru</td>\n",
       "      <td>2014</td>\n",
       "      <td>Harshil Mathur, Shashank Kumar</td>\n",
       "      <td>Financial Services, FinTech, Payments, Software</td>\n",
       "      <td>Razorpay is a payment acceptance, processing, ...</td>\n",
       "      <td>1001-5000</td>\n",
       "      <td>366600000</td>\n",
       "      <td>7</td>\n",
       "      <td>29</td>\n",
       "    </tr>\n",
       "  </tbody>\n",
       "</table>\n",
       "</div>"
      ],
      "text/plain": [
       "   Unnamed: 0        Company       City  Starting Year  \\\n",
       "0           0  Urban Company    Gurgaon           2014   \n",
       "1           1      Classplus      Noida           2018   \n",
       "2           2          Paytm      Noida           2010   \n",
       "3           3           Apna     Mumbai           2019   \n",
       "4           4       Razorpay  Bengaluru           2014   \n",
       "\n",
       "                                            Founders  \\\n",
       "0  Abhiraj Singh Bhal, Raghav Chandra, Varun Khaitan   \n",
       "1  Bhaswat Agarwal, Bikash Dash, Mukul Rustagi, N...   \n",
       "2                Akshay Khanna, Vijay Shekhar Sharma   \n",
       "3                                      Nirmit Parikh   \n",
       "4                     Harshil Mathur, Shashank Kumar   \n",
       "\n",
       "                                          Industries  \\\n",
       "0  Apps, Home Services, Marketplace, Service Indu...   \n",
       "1  B2B, E-Learning, EdTech, Education, Mobile App...   \n",
       "2  E-Commerce, Finance, Financial Services, Inter...   \n",
       "3  Employment, Human Resources, Recruiting, Staff...   \n",
       "4    Financial Services, FinTech, Payments, Software   \n",
       "\n",
       "                                         Description No. of Employees  \\\n",
       "0  Urban is a marketplace for independent contrac...        1001-5000   \n",
       "1  Classplus is a mobile-first SaaS platform that...          101-250   \n",
       "2  Paytm is a payment gateway that allows users a...         501-1000   \n",
       "3  Apna is a professional networking and job-sear...          101-250   \n",
       "4  Razorpay is a payment acceptance, processing, ...        1001-5000   \n",
       "\n",
       "   Funding Amount in $  Funding Round  No. of Investors  \n",
       "0            445920356             12                16  \n",
       "1             89506451             10                20  \n",
       "2             32448851              4                 4  \n",
       "3             93450000              4                 6  \n",
       "4            366600000              7                29  "
      ]
     },
     "execution_count": 4,
     "metadata": {},
     "output_type": "execute_result"
    }
   ],
   "source": [
    "df.head()"
   ]
  },
  {
   "cell_type": "code",
   "execution_count": 5,
   "id": "44f3f44c",
   "metadata": {},
   "outputs": [
    {
     "data": {
      "text/plain": [
       "Unnamed: 0             0\n",
       "Company                0\n",
       "City                   0\n",
       "Starting Year          0\n",
       "Founders               0\n",
       "Industries             0\n",
       "Description            0\n",
       "No. of Employees       0\n",
       "Funding Amount in $    0\n",
       "Funding Round          0\n",
       "No. of Investors       0\n",
       "dtype: int64"
      ]
     },
     "execution_count": 5,
     "metadata": {},
     "output_type": "execute_result"
    }
   ],
   "source": [
    "df.isnull().sum()"
   ]
  },
  {
   "cell_type": "code",
   "execution_count": null,
   "id": "97dec7d2",
   "metadata": {},
   "outputs": [],
   "source": []
  }
 ],
 "metadata": {
  "kernelspec": {
   "display_name": "Python 3 (ipykernel)",
   "language": "python",
   "name": "python3"
  },
  "language_info": {
   "codemirror_mode": {
    "name": "ipython",
    "version": 3
   },
   "file_extension": ".py",
   "mimetype": "text/x-python",
   "name": "python",
   "nbconvert_exporter": "python",
   "pygments_lexer": "ipython3",
   "version": "3.9.12"
  }
 },
 "nbformat": 4,
 "nbformat_minor": 5
}
